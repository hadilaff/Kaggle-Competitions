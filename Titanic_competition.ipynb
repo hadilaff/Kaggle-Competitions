{
 "cells": [
  {
   "cell_type": "code",
   "execution_count": 1,
   "id": "679a4be7",
   "metadata": {
    "_cell_guid": "b1076dfc-b9ad-4769-8c92-a6c4dae69d19",
    "_uuid": "8f2839f25d086af736a60e9eeb907d3b93b6e0e5",
    "execution": {
     "iopub.execute_input": "2024-03-26T10:57:09.434719Z",
     "iopub.status.busy": "2024-03-26T10:57:09.434221Z",
     "iopub.status.idle": "2024-03-26T10:57:10.608146Z",
     "shell.execute_reply": "2024-03-26T10:57:10.606621Z"
    },
    "papermill": {
     "duration": 1.190184,
     "end_time": "2024-03-26T10:57:10.611216",
     "exception": false,
     "start_time": "2024-03-26T10:57:09.421032",
     "status": "completed"
    },
    "tags": []
   },
   "outputs": [
    {
     "name": "stdout",
     "output_type": "stream",
     "text": [
      "/kaggle/input/titanic/train.csv\n",
      "/kaggle/input/titanic/test.csv\n",
      "/kaggle/input/titanic/gender_submission.csv\n"
     ]
    }
   ],
   "source": [
    "# This Python 3 environment comes with many helpful analytics libraries installed\n",
    "# It is defined by the kaggle/python Docker image: https://github.com/kaggle/docker-python\n",
    "# For example, here's several helpful packages to load\n",
    "\n",
    "import numpy as np # linear algebra\n",
    "import pandas as pd # data processing, CSV file I/O (e.g. pd.read_csv)\n",
    "\n",
    "# Input data files are available in the read-only \"../input/\" directory\n",
    "# For example, running this (by clicking run or pressing Shift+Enter) will list all files under the input directory\n",
    "\n",
    "import os\n",
    "for dirname, _, filenames in os.walk('/kaggle/input'):\n",
    "    for filename in filenames:\n",
    "        print(os.path.join(dirname, filename))\n",
    "\n",
    "# You can write up to 20GB to the current directory (/kaggle/working/) that gets preserved as output when you create a version using \"Save & Run All\" \n",
    "# You can also write temporary files to /kaggle/temp/, but they won't be saved outside of the current session"
   ]
  },
  {
   "cell_type": "code",
   "execution_count": 2,
   "id": "d6170f14",
   "metadata": {
    "execution": {
     "iopub.execute_input": "2024-03-26T10:57:10.635528Z",
     "iopub.status.busy": "2024-03-26T10:57:10.634002Z",
     "iopub.status.idle": "2024-03-26T10:57:10.694120Z",
     "shell.execute_reply": "2024-03-26T10:57:10.692877Z"
    },
    "papermill": {
     "duration": 0.074999,
     "end_time": "2024-03-26T10:57:10.696895",
     "exception": false,
     "start_time": "2024-03-26T10:57:10.621896",
     "status": "completed"
    },
    "tags": []
   },
   "outputs": [
    {
     "data": {
      "text/html": [
       "<div>\n",
       "<style scoped>\n",
       "    .dataframe tbody tr th:only-of-type {\n",
       "        vertical-align: middle;\n",
       "    }\n",
       "\n",
       "    .dataframe tbody tr th {\n",
       "        vertical-align: top;\n",
       "    }\n",
       "\n",
       "    .dataframe thead th {\n",
       "        text-align: right;\n",
       "    }\n",
       "</style>\n",
       "<table border=\"1\" class=\"dataframe\">\n",
       "  <thead>\n",
       "    <tr style=\"text-align: right;\">\n",
       "      <th></th>\n",
       "      <th>PassengerId</th>\n",
       "      <th>Survived</th>\n",
       "      <th>Pclass</th>\n",
       "      <th>Name</th>\n",
       "      <th>Sex</th>\n",
       "      <th>Age</th>\n",
       "      <th>SibSp</th>\n",
       "      <th>Parch</th>\n",
       "      <th>Ticket</th>\n",
       "      <th>Fare</th>\n",
       "      <th>Cabin</th>\n",
       "      <th>Embarked</th>\n",
       "    </tr>\n",
       "  </thead>\n",
       "  <tbody>\n",
       "    <tr>\n",
       "      <th>0</th>\n",
       "      <td>1</td>\n",
       "      <td>0</td>\n",
       "      <td>3</td>\n",
       "      <td>Braund, Mr. Owen Harris</td>\n",
       "      <td>male</td>\n",
       "      <td>22.0</td>\n",
       "      <td>1</td>\n",
       "      <td>0</td>\n",
       "      <td>A/5 21171</td>\n",
       "      <td>7.2500</td>\n",
       "      <td>NaN</td>\n",
       "      <td>S</td>\n",
       "    </tr>\n",
       "    <tr>\n",
       "      <th>1</th>\n",
       "      <td>2</td>\n",
       "      <td>1</td>\n",
       "      <td>1</td>\n",
       "      <td>Cumings, Mrs. John Bradley (Florence Briggs Th...</td>\n",
       "      <td>female</td>\n",
       "      <td>38.0</td>\n",
       "      <td>1</td>\n",
       "      <td>0</td>\n",
       "      <td>PC 17599</td>\n",
       "      <td>71.2833</td>\n",
       "      <td>C85</td>\n",
       "      <td>C</td>\n",
       "    </tr>\n",
       "    <tr>\n",
       "      <th>2</th>\n",
       "      <td>3</td>\n",
       "      <td>1</td>\n",
       "      <td>3</td>\n",
       "      <td>Heikkinen, Miss. Laina</td>\n",
       "      <td>female</td>\n",
       "      <td>26.0</td>\n",
       "      <td>0</td>\n",
       "      <td>0</td>\n",
       "      <td>STON/O2. 3101282</td>\n",
       "      <td>7.9250</td>\n",
       "      <td>NaN</td>\n",
       "      <td>S</td>\n",
       "    </tr>\n",
       "    <tr>\n",
       "      <th>3</th>\n",
       "      <td>4</td>\n",
       "      <td>1</td>\n",
       "      <td>1</td>\n",
       "      <td>Futrelle, Mrs. Jacques Heath (Lily May Peel)</td>\n",
       "      <td>female</td>\n",
       "      <td>35.0</td>\n",
       "      <td>1</td>\n",
       "      <td>0</td>\n",
       "      <td>113803</td>\n",
       "      <td>53.1000</td>\n",
       "      <td>C123</td>\n",
       "      <td>S</td>\n",
       "    </tr>\n",
       "    <tr>\n",
       "      <th>4</th>\n",
       "      <td>5</td>\n",
       "      <td>0</td>\n",
       "      <td>3</td>\n",
       "      <td>Allen, Mr. William Henry</td>\n",
       "      <td>male</td>\n",
       "      <td>35.0</td>\n",
       "      <td>0</td>\n",
       "      <td>0</td>\n",
       "      <td>373450</td>\n",
       "      <td>8.0500</td>\n",
       "      <td>NaN</td>\n",
       "      <td>S</td>\n",
       "    </tr>\n",
       "    <tr>\n",
       "      <th>...</th>\n",
       "      <td>...</td>\n",
       "      <td>...</td>\n",
       "      <td>...</td>\n",
       "      <td>...</td>\n",
       "      <td>...</td>\n",
       "      <td>...</td>\n",
       "      <td>...</td>\n",
       "      <td>...</td>\n",
       "      <td>...</td>\n",
       "      <td>...</td>\n",
       "      <td>...</td>\n",
       "      <td>...</td>\n",
       "    </tr>\n",
       "    <tr>\n",
       "      <th>886</th>\n",
       "      <td>887</td>\n",
       "      <td>0</td>\n",
       "      <td>2</td>\n",
       "      <td>Montvila, Rev. Juozas</td>\n",
       "      <td>male</td>\n",
       "      <td>27.0</td>\n",
       "      <td>0</td>\n",
       "      <td>0</td>\n",
       "      <td>211536</td>\n",
       "      <td>13.0000</td>\n",
       "      <td>NaN</td>\n",
       "      <td>S</td>\n",
       "    </tr>\n",
       "    <tr>\n",
       "      <th>887</th>\n",
       "      <td>888</td>\n",
       "      <td>1</td>\n",
       "      <td>1</td>\n",
       "      <td>Graham, Miss. Margaret Edith</td>\n",
       "      <td>female</td>\n",
       "      <td>19.0</td>\n",
       "      <td>0</td>\n",
       "      <td>0</td>\n",
       "      <td>112053</td>\n",
       "      <td>30.0000</td>\n",
       "      <td>B42</td>\n",
       "      <td>S</td>\n",
       "    </tr>\n",
       "    <tr>\n",
       "      <th>888</th>\n",
       "      <td>889</td>\n",
       "      <td>0</td>\n",
       "      <td>3</td>\n",
       "      <td>Johnston, Miss. Catherine Helen \"Carrie\"</td>\n",
       "      <td>female</td>\n",
       "      <td>NaN</td>\n",
       "      <td>1</td>\n",
       "      <td>2</td>\n",
       "      <td>W./C. 6607</td>\n",
       "      <td>23.4500</td>\n",
       "      <td>NaN</td>\n",
       "      <td>S</td>\n",
       "    </tr>\n",
       "    <tr>\n",
       "      <th>889</th>\n",
       "      <td>890</td>\n",
       "      <td>1</td>\n",
       "      <td>1</td>\n",
       "      <td>Behr, Mr. Karl Howell</td>\n",
       "      <td>male</td>\n",
       "      <td>26.0</td>\n",
       "      <td>0</td>\n",
       "      <td>0</td>\n",
       "      <td>111369</td>\n",
       "      <td>30.0000</td>\n",
       "      <td>C148</td>\n",
       "      <td>C</td>\n",
       "    </tr>\n",
       "    <tr>\n",
       "      <th>890</th>\n",
       "      <td>891</td>\n",
       "      <td>0</td>\n",
       "      <td>3</td>\n",
       "      <td>Dooley, Mr. Patrick</td>\n",
       "      <td>male</td>\n",
       "      <td>32.0</td>\n",
       "      <td>0</td>\n",
       "      <td>0</td>\n",
       "      <td>370376</td>\n",
       "      <td>7.7500</td>\n",
       "      <td>NaN</td>\n",
       "      <td>Q</td>\n",
       "    </tr>\n",
       "  </tbody>\n",
       "</table>\n",
       "<p>891 rows × 12 columns</p>\n",
       "</div>"
      ],
      "text/plain": [
       "     PassengerId  Survived  Pclass  \\\n",
       "0              1         0       3   \n",
       "1              2         1       1   \n",
       "2              3         1       3   \n",
       "3              4         1       1   \n",
       "4              5         0       3   \n",
       "..           ...       ...     ...   \n",
       "886          887         0       2   \n",
       "887          888         1       1   \n",
       "888          889         0       3   \n",
       "889          890         1       1   \n",
       "890          891         0       3   \n",
       "\n",
       "                                                  Name     Sex   Age  SibSp  \\\n",
       "0                              Braund, Mr. Owen Harris    male  22.0      1   \n",
       "1    Cumings, Mrs. John Bradley (Florence Briggs Th...  female  38.0      1   \n",
       "2                               Heikkinen, Miss. Laina  female  26.0      0   \n",
       "3         Futrelle, Mrs. Jacques Heath (Lily May Peel)  female  35.0      1   \n",
       "4                             Allen, Mr. William Henry    male  35.0      0   \n",
       "..                                                 ...     ...   ...    ...   \n",
       "886                              Montvila, Rev. Juozas    male  27.0      0   \n",
       "887                       Graham, Miss. Margaret Edith  female  19.0      0   \n",
       "888           Johnston, Miss. Catherine Helen \"Carrie\"  female   NaN      1   \n",
       "889                              Behr, Mr. Karl Howell    male  26.0      0   \n",
       "890                                Dooley, Mr. Patrick    male  32.0      0   \n",
       "\n",
       "     Parch            Ticket     Fare Cabin Embarked  \n",
       "0        0         A/5 21171   7.2500   NaN        S  \n",
       "1        0          PC 17599  71.2833   C85        C  \n",
       "2        0  STON/O2. 3101282   7.9250   NaN        S  \n",
       "3        0            113803  53.1000  C123        S  \n",
       "4        0            373450   8.0500   NaN        S  \n",
       "..     ...               ...      ...   ...      ...  \n",
       "886      0            211536  13.0000   NaN        S  \n",
       "887      0            112053  30.0000   B42        S  \n",
       "888      2        W./C. 6607  23.4500   NaN        S  \n",
       "889      0            111369  30.0000  C148        C  \n",
       "890      0            370376   7.7500   NaN        Q  \n",
       "\n",
       "[891 rows x 12 columns]"
      ]
     },
     "execution_count": 2,
     "metadata": {},
     "output_type": "execute_result"
    }
   ],
   "source": [
    "train_data=pd.read_csv(\"/kaggle/input/titanic/train.csv\")\n",
    "train_data"
   ]
  },
  {
   "cell_type": "code",
   "execution_count": 3,
   "id": "85a50383",
   "metadata": {
    "execution": {
     "iopub.execute_input": "2024-03-26T10:57:10.721373Z",
     "iopub.status.busy": "2024-03-26T10:57:10.720575Z",
     "iopub.status.idle": "2024-03-26T10:57:10.762586Z",
     "shell.execute_reply": "2024-03-26T10:57:10.761103Z"
    },
    "papermill": {
     "duration": 0.057599,
     "end_time": "2024-03-26T10:57:10.765457",
     "exception": false,
     "start_time": "2024-03-26T10:57:10.707858",
     "status": "completed"
    },
    "tags": []
   },
   "outputs": [
    {
     "data": {
      "text/html": [
       "<div>\n",
       "<style scoped>\n",
       "    .dataframe tbody tr th:only-of-type {\n",
       "        vertical-align: middle;\n",
       "    }\n",
       "\n",
       "    .dataframe tbody tr th {\n",
       "        vertical-align: top;\n",
       "    }\n",
       "\n",
       "    .dataframe thead th {\n",
       "        text-align: right;\n",
       "    }\n",
       "</style>\n",
       "<table border=\"1\" class=\"dataframe\">\n",
       "  <thead>\n",
       "    <tr style=\"text-align: right;\">\n",
       "      <th></th>\n",
       "      <th>PassengerId</th>\n",
       "      <th>Survived</th>\n",
       "      <th>Pclass</th>\n",
       "      <th>Age</th>\n",
       "      <th>SibSp</th>\n",
       "      <th>Parch</th>\n",
       "      <th>Fare</th>\n",
       "    </tr>\n",
       "  </thead>\n",
       "  <tbody>\n",
       "    <tr>\n",
       "      <th>count</th>\n",
       "      <td>891.000000</td>\n",
       "      <td>891.000000</td>\n",
       "      <td>891.000000</td>\n",
       "      <td>714.000000</td>\n",
       "      <td>891.000000</td>\n",
       "      <td>891.000000</td>\n",
       "      <td>891.000000</td>\n",
       "    </tr>\n",
       "    <tr>\n",
       "      <th>mean</th>\n",
       "      <td>446.000000</td>\n",
       "      <td>0.383838</td>\n",
       "      <td>2.308642</td>\n",
       "      <td>29.699118</td>\n",
       "      <td>0.523008</td>\n",
       "      <td>0.381594</td>\n",
       "      <td>32.204208</td>\n",
       "    </tr>\n",
       "    <tr>\n",
       "      <th>std</th>\n",
       "      <td>257.353842</td>\n",
       "      <td>0.486592</td>\n",
       "      <td>0.836071</td>\n",
       "      <td>14.526497</td>\n",
       "      <td>1.102743</td>\n",
       "      <td>0.806057</td>\n",
       "      <td>49.693429</td>\n",
       "    </tr>\n",
       "    <tr>\n",
       "      <th>min</th>\n",
       "      <td>1.000000</td>\n",
       "      <td>0.000000</td>\n",
       "      <td>1.000000</td>\n",
       "      <td>0.420000</td>\n",
       "      <td>0.000000</td>\n",
       "      <td>0.000000</td>\n",
       "      <td>0.000000</td>\n",
       "    </tr>\n",
       "    <tr>\n",
       "      <th>25%</th>\n",
       "      <td>223.500000</td>\n",
       "      <td>0.000000</td>\n",
       "      <td>2.000000</td>\n",
       "      <td>20.125000</td>\n",
       "      <td>0.000000</td>\n",
       "      <td>0.000000</td>\n",
       "      <td>7.910400</td>\n",
       "    </tr>\n",
       "    <tr>\n",
       "      <th>50%</th>\n",
       "      <td>446.000000</td>\n",
       "      <td>0.000000</td>\n",
       "      <td>3.000000</td>\n",
       "      <td>28.000000</td>\n",
       "      <td>0.000000</td>\n",
       "      <td>0.000000</td>\n",
       "      <td>14.454200</td>\n",
       "    </tr>\n",
       "    <tr>\n",
       "      <th>75%</th>\n",
       "      <td>668.500000</td>\n",
       "      <td>1.000000</td>\n",
       "      <td>3.000000</td>\n",
       "      <td>38.000000</td>\n",
       "      <td>1.000000</td>\n",
       "      <td>0.000000</td>\n",
       "      <td>31.000000</td>\n",
       "    </tr>\n",
       "    <tr>\n",
       "      <th>max</th>\n",
       "      <td>891.000000</td>\n",
       "      <td>1.000000</td>\n",
       "      <td>3.000000</td>\n",
       "      <td>80.000000</td>\n",
       "      <td>8.000000</td>\n",
       "      <td>6.000000</td>\n",
       "      <td>512.329200</td>\n",
       "    </tr>\n",
       "  </tbody>\n",
       "</table>\n",
       "</div>"
      ],
      "text/plain": [
       "       PassengerId    Survived      Pclass         Age       SibSp  \\\n",
       "count   891.000000  891.000000  891.000000  714.000000  891.000000   \n",
       "mean    446.000000    0.383838    2.308642   29.699118    0.523008   \n",
       "std     257.353842    0.486592    0.836071   14.526497    1.102743   \n",
       "min       1.000000    0.000000    1.000000    0.420000    0.000000   \n",
       "25%     223.500000    0.000000    2.000000   20.125000    0.000000   \n",
       "50%     446.000000    0.000000    3.000000   28.000000    0.000000   \n",
       "75%     668.500000    1.000000    3.000000   38.000000    1.000000   \n",
       "max     891.000000    1.000000    3.000000   80.000000    8.000000   \n",
       "\n",
       "            Parch        Fare  \n",
       "count  891.000000  891.000000  \n",
       "mean     0.381594   32.204208  \n",
       "std      0.806057   49.693429  \n",
       "min      0.000000    0.000000  \n",
       "25%      0.000000    7.910400  \n",
       "50%      0.000000   14.454200  \n",
       "75%      0.000000   31.000000  \n",
       "max      6.000000  512.329200  "
      ]
     },
     "execution_count": 3,
     "metadata": {},
     "output_type": "execute_result"
    }
   ],
   "source": [
    "train_data.describe()"
   ]
  },
  {
   "cell_type": "code",
   "execution_count": 4,
   "id": "73a47139",
   "metadata": {
    "execution": {
     "iopub.execute_input": "2024-03-26T10:57:10.790162Z",
     "iopub.status.busy": "2024-03-26T10:57:10.789761Z",
     "iopub.status.idle": "2024-03-26T10:57:10.823877Z",
     "shell.execute_reply": "2024-03-26T10:57:10.822485Z"
    },
    "papermill": {
     "duration": 0.050062,
     "end_time": "2024-03-26T10:57:10.826971",
     "exception": false,
     "start_time": "2024-03-26T10:57:10.776909",
     "status": "completed"
    },
    "tags": []
   },
   "outputs": [
    {
     "data": {
      "text/html": [
       "<div>\n",
       "<style scoped>\n",
       "    .dataframe tbody tr th:only-of-type {\n",
       "        vertical-align: middle;\n",
       "    }\n",
       "\n",
       "    .dataframe tbody tr th {\n",
       "        vertical-align: top;\n",
       "    }\n",
       "\n",
       "    .dataframe thead th {\n",
       "        text-align: right;\n",
       "    }\n",
       "</style>\n",
       "<table border=\"1\" class=\"dataframe\">\n",
       "  <thead>\n",
       "    <tr style=\"text-align: right;\">\n",
       "      <th></th>\n",
       "      <th>PassengerId</th>\n",
       "      <th>Pclass</th>\n",
       "      <th>Name</th>\n",
       "      <th>Sex</th>\n",
       "      <th>Age</th>\n",
       "      <th>SibSp</th>\n",
       "      <th>Parch</th>\n",
       "      <th>Ticket</th>\n",
       "      <th>Fare</th>\n",
       "      <th>Cabin</th>\n",
       "      <th>Embarked</th>\n",
       "    </tr>\n",
       "  </thead>\n",
       "  <tbody>\n",
       "    <tr>\n",
       "      <th>0</th>\n",
       "      <td>892</td>\n",
       "      <td>3</td>\n",
       "      <td>Kelly, Mr. James</td>\n",
       "      <td>male</td>\n",
       "      <td>34.5</td>\n",
       "      <td>0</td>\n",
       "      <td>0</td>\n",
       "      <td>330911</td>\n",
       "      <td>7.8292</td>\n",
       "      <td>NaN</td>\n",
       "      <td>Q</td>\n",
       "    </tr>\n",
       "    <tr>\n",
       "      <th>1</th>\n",
       "      <td>893</td>\n",
       "      <td>3</td>\n",
       "      <td>Wilkes, Mrs. James (Ellen Needs)</td>\n",
       "      <td>female</td>\n",
       "      <td>47.0</td>\n",
       "      <td>1</td>\n",
       "      <td>0</td>\n",
       "      <td>363272</td>\n",
       "      <td>7.0000</td>\n",
       "      <td>NaN</td>\n",
       "      <td>S</td>\n",
       "    </tr>\n",
       "    <tr>\n",
       "      <th>2</th>\n",
       "      <td>894</td>\n",
       "      <td>2</td>\n",
       "      <td>Myles, Mr. Thomas Francis</td>\n",
       "      <td>male</td>\n",
       "      <td>62.0</td>\n",
       "      <td>0</td>\n",
       "      <td>0</td>\n",
       "      <td>240276</td>\n",
       "      <td>9.6875</td>\n",
       "      <td>NaN</td>\n",
       "      <td>Q</td>\n",
       "    </tr>\n",
       "    <tr>\n",
       "      <th>3</th>\n",
       "      <td>895</td>\n",
       "      <td>3</td>\n",
       "      <td>Wirz, Mr. Albert</td>\n",
       "      <td>male</td>\n",
       "      <td>27.0</td>\n",
       "      <td>0</td>\n",
       "      <td>0</td>\n",
       "      <td>315154</td>\n",
       "      <td>8.6625</td>\n",
       "      <td>NaN</td>\n",
       "      <td>S</td>\n",
       "    </tr>\n",
       "    <tr>\n",
       "      <th>4</th>\n",
       "      <td>896</td>\n",
       "      <td>3</td>\n",
       "      <td>Hirvonen, Mrs. Alexander (Helga E Lindqvist)</td>\n",
       "      <td>female</td>\n",
       "      <td>22.0</td>\n",
       "      <td>1</td>\n",
       "      <td>1</td>\n",
       "      <td>3101298</td>\n",
       "      <td>12.2875</td>\n",
       "      <td>NaN</td>\n",
       "      <td>S</td>\n",
       "    </tr>\n",
       "    <tr>\n",
       "      <th>...</th>\n",
       "      <td>...</td>\n",
       "      <td>...</td>\n",
       "      <td>...</td>\n",
       "      <td>...</td>\n",
       "      <td>...</td>\n",
       "      <td>...</td>\n",
       "      <td>...</td>\n",
       "      <td>...</td>\n",
       "      <td>...</td>\n",
       "      <td>...</td>\n",
       "      <td>...</td>\n",
       "    </tr>\n",
       "    <tr>\n",
       "      <th>413</th>\n",
       "      <td>1305</td>\n",
       "      <td>3</td>\n",
       "      <td>Spector, Mr. Woolf</td>\n",
       "      <td>male</td>\n",
       "      <td>NaN</td>\n",
       "      <td>0</td>\n",
       "      <td>0</td>\n",
       "      <td>A.5. 3236</td>\n",
       "      <td>8.0500</td>\n",
       "      <td>NaN</td>\n",
       "      <td>S</td>\n",
       "    </tr>\n",
       "    <tr>\n",
       "      <th>414</th>\n",
       "      <td>1306</td>\n",
       "      <td>1</td>\n",
       "      <td>Oliva y Ocana, Dona. Fermina</td>\n",
       "      <td>female</td>\n",
       "      <td>39.0</td>\n",
       "      <td>0</td>\n",
       "      <td>0</td>\n",
       "      <td>PC 17758</td>\n",
       "      <td>108.9000</td>\n",
       "      <td>C105</td>\n",
       "      <td>C</td>\n",
       "    </tr>\n",
       "    <tr>\n",
       "      <th>415</th>\n",
       "      <td>1307</td>\n",
       "      <td>3</td>\n",
       "      <td>Saether, Mr. Simon Sivertsen</td>\n",
       "      <td>male</td>\n",
       "      <td>38.5</td>\n",
       "      <td>0</td>\n",
       "      <td>0</td>\n",
       "      <td>SOTON/O.Q. 3101262</td>\n",
       "      <td>7.2500</td>\n",
       "      <td>NaN</td>\n",
       "      <td>S</td>\n",
       "    </tr>\n",
       "    <tr>\n",
       "      <th>416</th>\n",
       "      <td>1308</td>\n",
       "      <td>3</td>\n",
       "      <td>Ware, Mr. Frederick</td>\n",
       "      <td>male</td>\n",
       "      <td>NaN</td>\n",
       "      <td>0</td>\n",
       "      <td>0</td>\n",
       "      <td>359309</td>\n",
       "      <td>8.0500</td>\n",
       "      <td>NaN</td>\n",
       "      <td>S</td>\n",
       "    </tr>\n",
       "    <tr>\n",
       "      <th>417</th>\n",
       "      <td>1309</td>\n",
       "      <td>3</td>\n",
       "      <td>Peter, Master. Michael J</td>\n",
       "      <td>male</td>\n",
       "      <td>NaN</td>\n",
       "      <td>1</td>\n",
       "      <td>1</td>\n",
       "      <td>2668</td>\n",
       "      <td>22.3583</td>\n",
       "      <td>NaN</td>\n",
       "      <td>C</td>\n",
       "    </tr>\n",
       "  </tbody>\n",
       "</table>\n",
       "<p>418 rows × 11 columns</p>\n",
       "</div>"
      ],
      "text/plain": [
       "     PassengerId  Pclass                                          Name  \\\n",
       "0            892       3                              Kelly, Mr. James   \n",
       "1            893       3              Wilkes, Mrs. James (Ellen Needs)   \n",
       "2            894       2                     Myles, Mr. Thomas Francis   \n",
       "3            895       3                              Wirz, Mr. Albert   \n",
       "4            896       3  Hirvonen, Mrs. Alexander (Helga E Lindqvist)   \n",
       "..           ...     ...                                           ...   \n",
       "413         1305       3                            Spector, Mr. Woolf   \n",
       "414         1306       1                  Oliva y Ocana, Dona. Fermina   \n",
       "415         1307       3                  Saether, Mr. Simon Sivertsen   \n",
       "416         1308       3                           Ware, Mr. Frederick   \n",
       "417         1309       3                      Peter, Master. Michael J   \n",
       "\n",
       "        Sex   Age  SibSp  Parch              Ticket      Fare Cabin Embarked  \n",
       "0      male  34.5      0      0              330911    7.8292   NaN        Q  \n",
       "1    female  47.0      1      0              363272    7.0000   NaN        S  \n",
       "2      male  62.0      0      0              240276    9.6875   NaN        Q  \n",
       "3      male  27.0      0      0              315154    8.6625   NaN        S  \n",
       "4    female  22.0      1      1             3101298   12.2875   NaN        S  \n",
       "..      ...   ...    ...    ...                 ...       ...   ...      ...  \n",
       "413    male   NaN      0      0           A.5. 3236    8.0500   NaN        S  \n",
       "414  female  39.0      0      0            PC 17758  108.9000  C105        C  \n",
       "415    male  38.5      0      0  SOTON/O.Q. 3101262    7.2500   NaN        S  \n",
       "416    male   NaN      0      0              359309    8.0500   NaN        S  \n",
       "417    male   NaN      1      1                2668   22.3583   NaN        C  \n",
       "\n",
       "[418 rows x 11 columns]"
      ]
     },
     "execution_count": 4,
     "metadata": {},
     "output_type": "execute_result"
    }
   ],
   "source": [
    "test_data=pd.read_csv(\"/kaggle/input/titanic/test.csv\")\n",
    "test_data"
   ]
  },
  {
   "cell_type": "markdown",
   "id": "84f7cb8c",
   "metadata": {
    "papermill": {
     "duration": 0.011402,
     "end_time": "2024-03-26T10:57:10.850298",
     "exception": false,
     "start_time": "2024-03-26T10:57:10.838896",
     "status": "completed"
    },
    "tags": []
   },
   "source": [
    "# **Data exploration**"
   ]
  },
  {
   "cell_type": "code",
   "execution_count": 5,
   "id": "adfd12dd",
   "metadata": {
    "execution": {
     "iopub.execute_input": "2024-03-26T10:57:10.875801Z",
     "iopub.status.busy": "2024-03-26T10:57:10.875372Z",
     "iopub.status.idle": "2024-03-26T10:57:10.903004Z",
     "shell.execute_reply": "2024-03-26T10:57:10.900938Z"
    },
    "papermill": {
     "duration": 0.043667,
     "end_time": "2024-03-26T10:57:10.905880",
     "exception": false,
     "start_time": "2024-03-26T10:57:10.862213",
     "status": "completed"
    },
    "tags": []
   },
   "outputs": [
    {
     "name": "stdout",
     "output_type": "stream",
     "text": [
      "<class 'pandas.core.frame.DataFrame'>\n",
      "RangeIndex: 418 entries, 0 to 417\n",
      "Data columns (total 11 columns):\n",
      " #   Column       Non-Null Count  Dtype  \n",
      "---  ------       --------------  -----  \n",
      " 0   PassengerId  418 non-null    int64  \n",
      " 1   Pclass       418 non-null    int64  \n",
      " 2   Name         418 non-null    object \n",
      " 3   Sex          418 non-null    object \n",
      " 4   Age          332 non-null    float64\n",
      " 5   SibSp        418 non-null    int64  \n",
      " 6   Parch        418 non-null    int64  \n",
      " 7   Ticket       418 non-null    object \n",
      " 8   Fare         417 non-null    float64\n",
      " 9   Cabin        91 non-null     object \n",
      " 10  Embarked     418 non-null    object \n",
      "dtypes: float64(2), int64(4), object(5)\n",
      "memory usage: 36.0+ KB\n"
     ]
    }
   ],
   "source": [
    "test_data.info()"
   ]
  },
  {
   "cell_type": "code",
   "execution_count": 6,
   "id": "b5628c19",
   "metadata": {
    "execution": {
     "iopub.execute_input": "2024-03-26T10:57:10.932046Z",
     "iopub.status.busy": "2024-03-26T10:57:10.931233Z",
     "iopub.status.idle": "2024-03-26T10:57:10.940308Z",
     "shell.execute_reply": "2024-03-26T10:57:10.939101Z"
    },
    "papermill": {
     "duration": 0.024599,
     "end_time": "2024-03-26T10:57:10.942743",
     "exception": false,
     "start_time": "2024-03-26T10:57:10.918144",
     "status": "completed"
    },
    "tags": []
   },
   "outputs": [
    {
     "name": "stdout",
     "output_type": "stream",
     "text": [
      "% of women who survived: 74.20382165605095\n"
     ]
    }
   ],
   "source": [
    "#selecting the survival data for females\n",
    "women = train_data.loc[train_data.Sex == 'female'][\"Survived\"] \n",
    "rate_women = sum(women)/len(women)\n",
    "\n",
    "print(\"% of women who survived:\", rate_women*100)"
   ]
  },
  {
   "cell_type": "code",
   "execution_count": 7,
   "id": "2923a078",
   "metadata": {
    "execution": {
     "iopub.execute_input": "2024-03-26T10:57:10.969423Z",
     "iopub.status.busy": "2024-03-26T10:57:10.968603Z",
     "iopub.status.idle": "2024-03-26T10:57:10.977199Z",
     "shell.execute_reply": "2024-03-26T10:57:10.976033Z"
    },
    "papermill": {
     "duration": 0.024344,
     "end_time": "2024-03-26T10:57:10.979873",
     "exception": false,
     "start_time": "2024-03-26T10:57:10.955529",
     "status": "completed"
    },
    "tags": []
   },
   "outputs": [
    {
     "name": "stdout",
     "output_type": "stream",
     "text": [
      "% of men who survived: 1.0\n"
     ]
    }
   ],
   "source": [
    "#seulement quand survived ==1\n",
    "men_survived = train_data.loc[(train_data.Sex == 'male') & (train_data.Survived == 1), \"Survived\"]\n",
    "rate_men = sum(men_survived)/len(men_survived)\n",
    "\n",
    "print(\"% of men who survived:\", rate_men)\n"
   ]
  },
  {
   "cell_type": "code",
   "execution_count": 8,
   "id": "e304c924",
   "metadata": {
    "execution": {
     "iopub.execute_input": "2024-03-26T10:57:11.007232Z",
     "iopub.status.busy": "2024-03-26T10:57:11.006797Z",
     "iopub.status.idle": "2024-03-26T10:57:11.015351Z",
     "shell.execute_reply": "2024-03-26T10:57:11.013924Z"
    },
    "papermill": {
     "duration": 0.028102,
     "end_time": "2024-03-26T10:57:11.019600",
     "exception": false,
     "start_time": "2024-03-26T10:57:10.991498",
     "status": "completed"
    },
    "tags": []
   },
   "outputs": [
    {
     "name": "stdout",
     "output_type": "stream",
     "text": [
      "% of men who survived: 18.890814558058924\n"
     ]
    }
   ],
   "source": [
    "men = train_data.loc[train_data.Sex == 'male'][\"Survived\"]\n",
    "rate_men = sum(men)/len(men)\n",
    "\n",
    "print(\"% of men who survived:\", rate_men*100)\n"
   ]
  },
  {
   "cell_type": "markdown",
   "id": "60ab53ef",
   "metadata": {
    "papermill": {
     "duration": 0.011715,
     "end_time": "2024-03-26T10:57:11.043978",
     "exception": false,
     "start_time": "2024-03-26T10:57:11.032263",
     "status": "completed"
    },
    "tags": []
   },
   "source": [
    "# **Data Visualisation**"
   ]
  },
  {
   "cell_type": "code",
   "execution_count": 9,
   "id": "eba29648",
   "metadata": {
    "execution": {
     "iopub.execute_input": "2024-03-26T10:57:11.072003Z",
     "iopub.status.busy": "2024-03-26T10:57:11.071280Z",
     "iopub.status.idle": "2024-03-26T10:57:12.840958Z",
     "shell.execute_reply": "2024-03-26T10:57:12.839236Z"
    },
    "papermill": {
     "duration": 1.78624,
     "end_time": "2024-03-26T10:57:12.844352",
     "exception": false,
     "start_time": "2024-03-26T10:57:11.058112",
     "status": "completed"
    },
    "tags": []
   },
   "outputs": [],
   "source": [
    "import matplotlib.pyplot as plt\n",
    "import seaborn as sns\n",
    "import pandas as pd\n"
   ]
  },
  {
   "cell_type": "code",
   "execution_count": 10,
   "id": "1cb72ec7",
   "metadata": {
    "execution": {
     "iopub.execute_input": "2024-03-26T10:57:12.872805Z",
     "iopub.status.busy": "2024-03-26T10:57:12.872296Z",
     "iopub.status.idle": "2024-03-26T10:57:13.185181Z",
     "shell.execute_reply": "2024-03-26T10:57:13.183758Z"
    },
    "papermill": {
     "duration": 0.330429,
     "end_time": "2024-03-26T10:57:13.187802",
     "exception": false,
     "start_time": "2024-03-26T10:57:12.857373",
     "status": "completed"
    },
    "tags": []
   },
   "outputs": [
    {
     "data": {
      "image/png": "[encoded data removed]",
      "text/plain": [
       "<Figure size 640x480 with 1 Axes>"
      ]
     },
     "metadata": {},
     "output_type": "display_data"
    }
   ],
   "source": [
    "women_survived = sum(train_data.loc[train_data.Sex == 'female'][\"Survived\"]) / len(train_data.loc[train_data.Sex == 'female'])\n",
    "men_survived = sum(train_data.loc[train_data.Sex == 'male'][\"Survived\"]) / len(train_data.loc[train_data.Sex == 'male'])\n",
    "\n",
    "# Create labels and data for the plot\n",
    "labels = ['Women', 'Men']\n",
    "survival_rates = [women_survived, men_survived]\n",
    "\n",
    "# Create the plot\n",
    "plt.bar(labels, survival_rates, color=['pink', 'green'])\n",
    "\n",
    "# Add titles and labels\n",
    "plt.title('Survival Rate by Sex')\n",
    "plt.xlabel('Sex')\n",
    "plt.ylabel('Survival Rate')\n",
    "\n",
    "# Show the plot\n",
    "plt.show()\n"
   ]
  },
  {
   "cell_type": "code",
   "execution_count": 11,
   "id": "0c009ed4",
   "metadata": {
    "_kg_hide-output": true,
    "execution": {
     "iopub.execute_input": "2024-03-26T10:57:13.215293Z",
     "iopub.status.busy": "2024-03-26T10:57:13.214862Z",
     "iopub.status.idle": "2024-03-26T10:57:13.567316Z",
     "shell.execute_reply": "2024-03-26T10:57:13.566044Z"
    },
    "papermill": {
     "duration": 0.369177,
     "end_time": "2024-03-26T10:57:13.569951",
     "exception": false,
     "start_time": "2024-03-26T10:57:13.200774",
     "status": "completed"
    },
    "tags": []
   },
   "outputs": [
    {
     "data": {
      "image/png": "[encoded data removed]",
      "text/plain": [
       "<Figure size 640x480 with 1 Axes>"
      ]
     },
     "metadata": {},
     "output_type": "display_data"
    }
   ],
   "source": [
    "Msurvived = sum(train_data.loc[(train_data.Sex == 'male') & (train_data.Survived == 1), \"Survived\"])\n",
    "Mdead = len(train_data.loc[(train_data.Sex == 'male') & (train_data.Survived == 0)])\n",
    "\n",
    "\n",
    "\n",
    "labels = ['Survival', 'Dead']\n",
    "male_survival_rates = [Msurvived, Mdead]\n",
    "\n",
    "\n",
    "#  plot\n",
    "plt.bar(labels, survival_rates, color=['blue', 'brown'])\n",
    "\n",
    "# Add titles and labels\n",
    "plt.title('Survived vs dead')\n",
    "plt.xlabel('Male')\n",
    "plt.ylabel('Rate')\n",
    "\n",
    "# Show the plot\n",
    "plt.show()"
   ]
  },
  {
   "cell_type": "code",
   "execution_count": 12,
   "id": "6562529e",
   "metadata": {
    "execution": {
     "iopub.execute_input": "2024-03-26T10:57:13.597428Z",
     "iopub.status.busy": "2024-03-26T10:57:13.597046Z",
     "iopub.status.idle": "2024-03-26T10:57:13.872168Z",
     "shell.execute_reply": "2024-03-26T10:57:13.870775Z"
    },
    "papermill": {
     "duration": 0.293609,
     "end_time": "2024-03-26T10:57:13.876173",
     "exception": false,
     "start_time": "2024-03-26T10:57:13.582564",
     "status": "completed"
    },
    "tags": []
   },
   "outputs": [
    {
     "data": {
      "image/png": "[encoded data removed]",
      "text/plain": [
       "<Figure size 640x480 with 1 Axes>"
      ]
     },
     "metadata": {},
     "output_type": "display_data"
    }
   ],
   "source": [
    "\n",
    "Msurvived = sum(train_data.loc[(train_data.Sex == 'male') & (train_data.Survived == 1), \"Survived\"])\n",
    "Mdead = len(train_data.loc[(train_data.Sex == 'male') & (train_data.Survived == 0)])\n",
    "\n",
    "# Calculate survival and dead counts for females\n",
    "Fsurvived = sum(train_data.loc[(train_data.Sex == 'female') & (train_data.Survived == 1), \"Survived\"])\n",
    "Fdead = len(train_data.loc[(train_data.Sex == 'female') & (train_data.Survived == 0)])\n",
    "\n",
    "# Create labels and data for the plot\n",
    "labels = ['Male', 'Female']\n",
    "male_counts = [Msurvived, Mdead]\n",
    "female_counts = [Fsurvived, Fdead]\n",
    "\n",
    "# Plot for males\n",
    "plt.bar([1, 2], male_counts, color=['green','red'], label=['Survived','Dead'])\n",
    "\n",
    "# Plot for females\n",
    "plt.bar([4, 5], female_counts, color=['green','red'])\n",
    "\n",
    "# Add titles and labels\n",
    "plt.title('Survival vs Dead by Gender')\n",
    "plt.xlabel('Gender')\n",
    "plt.ylabel('Count')\n",
    "plt.xticks([1.5, 4.5], ['Male', 'Female'])\n",
    "plt.legend()\n",
    "\n",
    "# Show the plot\n",
    "plt.show()\n"
   ]
  },
  {
   "cell_type": "markdown",
   "id": "340a5a2d",
   "metadata": {
    "papermill": {
     "duration": 0.012811,
     "end_time": "2024-03-26T10:57:13.902527",
     "exception": false,
     "start_time": "2024-03-26T10:57:13.889716",
     "status": "completed"
    },
    "tags": []
   },
   "source": [
    "**Cross table**"
   ]
  },
  {
   "cell_type": "code",
   "execution_count": 13,
   "id": "664e3df2",
   "metadata": {
    "execution": {
     "iopub.execute_input": "2024-03-26T10:57:13.930964Z",
     "iopub.status.busy": "2024-03-26T10:57:13.930119Z",
     "iopub.status.idle": "2024-03-26T10:57:13.943801Z",
     "shell.execute_reply": "2024-03-26T10:57:13.942063Z"
    },
    "papermill": {
     "duration": 0.030597,
     "end_time": "2024-03-26T10:57:13.946284",
     "exception": false,
     "start_time": "2024-03-26T10:57:13.915687",
     "status": "completed"
    },
    "tags": []
   },
   "outputs": [
    {
     "name": "stdout",
     "output_type": "stream",
     "text": [
      "        Survived  Dead  Table\n",
      "Male         109   468    577\n",
      "Female       233    81    314\n",
      "Total        342   549    891\n"
     ]
    }
   ],
   "source": [
    "\n",
    "# Create a DataFrame\n",
    "data = {\n",
    "    'Survived': [Msurvived, Fsurvived],\n",
    "    'Dead': [Mdead, Fdead]\n",
    "    \n",
    "}\n",
    "\n",
    "index = ['Male', 'Female']\n",
    "cross_table = pd.DataFrame(data, index=index)\n",
    "\n",
    "#add column total\n",
    "cross_table['Table']=cross_table.sum(axis=1)\n",
    "# Add a Total row\n",
    "cross_table.loc['Total'] = cross_table.sum()\n",
    "\n",
    "# Display the cross-table\n",
    "print(cross_table)\n"
   ]
  },
  {
   "cell_type": "code",
   "execution_count": 14,
   "id": "ca3ff82b",
   "metadata": {
    "execution": {
     "iopub.execute_input": "2024-03-26T10:57:13.974221Z",
     "iopub.status.busy": "2024-03-26T10:57:13.973850Z",
     "iopub.status.idle": "2024-03-26T10:57:13.984776Z",
     "shell.execute_reply": "2024-03-26T10:57:13.983178Z"
    },
    "papermill": {
     "duration": 0.02812,
     "end_time": "2024-03-26T10:57:13.987453",
     "exception": false,
     "start_time": "2024-03-26T10:57:13.959333",
     "status": "completed"
    },
    "tags": []
   },
   "outputs": [
    {
     "data": {
      "text/plain": [
       "Pclass\n",
       "3    491\n",
       "1    216\n",
       "2    184\n",
       "Name: count, dtype: int64"
      ]
     },
     "execution_count": 14,
     "metadata": {},
     "output_type": "execute_result"
    }
   ],
   "source": [
    "class_counts = train_data['Pclass'].value_counts()\n",
    "class_counts"
   ]
  },
  {
   "cell_type": "code",
   "execution_count": 15,
   "id": "72ac4a28",
   "metadata": {
    "execution": {
     "iopub.execute_input": "2024-03-26T10:57:14.017896Z",
     "iopub.status.busy": "2024-03-26T10:57:14.017437Z",
     "iopub.status.idle": "2024-03-26T10:57:14.402241Z",
     "shell.execute_reply": "2024-03-26T10:57:14.401016Z"
    },
    "papermill": {
     "duration": 0.404086,
     "end_time": "2024-03-26T10:57:14.404997",
     "exception": false,
     "start_time": "2024-03-26T10:57:14.000911",
     "status": "completed"
    },
    "tags": []
   },
   "outputs": [
    {
     "name": "stdout",
     "output_type": "stream",
     "text": [
      "136 : 80 87 : 97 119 : 372\n"
     ]
    },
    {
     "data": {
      "image/png": "[encoded data removed]",
      "text/plain": [
       "<Figure size 640x480 with 1 Axes>"
      ]
     },
     "metadata": {},
     "output_type": "display_data"
    }
   ],
   "source": [
    "sclass1 = sum(train_data.loc[(train_data.Pclass == 1) & (train_data.Survived == 1), \"Survived\"])\n",
    "sclass2=sum(train_data.loc[(train_data.Pclass == 2) & (train_data.Survived == 1), \"Survived\"])\n",
    "sclass3=sum(train_data.loc[(train_data.Pclass == 3) & (train_data.Survived == 1), \"Survived\"])\n",
    "\n",
    "dclass1 = len(train_data.loc[(train_data.Pclass == 1) & (train_data.Survived == 0), \"Survived\"])\n",
    "dclass2=len(train_data.loc[(train_data.Pclass == 2) & (train_data.Survived == 0)])\n",
    "dclass3=len(train_data.loc[(train_data.Pclass == 3) & (train_data.Survived == 0)])\n",
    "print(sclass1,\":\",dclass1,sclass2,\":\",dclass2,sclass3,\":\", dclass3)\n",
    "\n",
    "labels = ['Pclass1', 'Pclass2','Pclass3']\n",
    "sclass = [sclass1, sclass2,sclass3]\n",
    "dclass = [dclass2, dclass2,dclass3]\n",
    "\n",
    "plt.bar([1, 4, 7], [sclass1, sclass2, sclass3], color='green', label='Survived')\n",
    "plt.bar([2, 5, 8], [dclass1, dclass2, dclass3], color='red', label='Dead')\n",
    "# Add titles and labels\n",
    "plt.title('Numer of Survival by class')\n",
    "plt.xlabel('Pclass')\n",
    "plt.ylabel('Count')\n",
    "plt.xticks([1.5, 4.5, 7.5], ['1', '2', '3'])\n",
    "plt.legend()\n",
    "\n",
    "\n",
    "plt.show()"
   ]
  },
  {
   "cell_type": "code",
   "execution_count": 16,
   "id": "98f9946d",
   "metadata": {
    "execution": {
     "iopub.execute_input": "2024-03-26T10:57:14.435229Z",
     "iopub.status.busy": "2024-03-26T10:57:14.434779Z",
     "iopub.status.idle": "2024-03-26T10:57:15.121121Z",
     "shell.execute_reply": "2024-03-26T10:57:15.119496Z"
    },
    "papermill": {
     "duration": 0.705083,
     "end_time": "2024-03-26T10:57:15.123900",
     "exception": false,
     "start_time": "2024-03-26T10:57:14.418817",
     "status": "completed"
    },
    "tags": []
   },
   "outputs": [
    {
     "data": {
      "text/plain": [
       "<seaborn.axisgrid.FacetGrid at 0x7fe5d152f670>"
      ]
     },
     "execution_count": 16,
     "metadata": {},
     "output_type": "execute_result"
    },
    {
     "data": {
      "image/png": "[encoded data removed]",
      "text/plain": [
       "<Figure size 598x500 with 1 Axes>"
      ]
     },
     "metadata": {},
     "output_type": "display_data"
    }
   ],
   "source": [
    "survived_by_sex_class = train_data.groupby(['Sex', 'Pclass'])['Survived'].sum().reset_index()\n",
    "\n",
    "# Plot the catplot\n",
    "sns.catplot(data=survived_by_sex_class, x='Pclass', y='Survived', hue='Sex', kind='point')"
   ]
  },
  {
   "cell_type": "code",
   "execution_count": 17,
   "id": "dc1b734a",
   "metadata": {
    "execution": {
     "iopub.execute_input": "2024-03-26T10:57:15.155339Z",
     "iopub.status.busy": "2024-03-26T10:57:15.154930Z",
     "iopub.status.idle": "2024-03-26T10:57:15.163041Z",
     "shell.execute_reply": "2024-03-26T10:57:15.161762Z"
    },
    "papermill": {
     "duration": 0.027295,
     "end_time": "2024-03-26T10:57:15.165856",
     "exception": false,
     "start_time": "2024-03-26T10:57:15.138561",
     "status": "completed"
    },
    "tags": []
   },
   "outputs": [
    {
     "data": {
      "text/plain": [
       "array(['PassengerId', 'Survived', 'Pclass', 'Name', 'Sex', 'Age', 'SibSp',\n",
       "       'Parch', 'Ticket', 'Fare', 'Cabin', 'Embarked'], dtype=object)"
      ]
     },
     "execution_count": 17,
     "metadata": {},
     "output_type": "execute_result"
    }
   ],
   "source": [
    "col_names = train_data.columns.values\n",
    "col_names"
   ]
  },
  {
   "cell_type": "code",
   "execution_count": 18,
   "id": "4748a365",
   "metadata": {
    "execution": {
     "iopub.execute_input": "2024-03-26T10:57:15.197259Z",
     "iopub.status.busy": "2024-03-26T10:57:15.196832Z",
     "iopub.status.idle": "2024-03-26T10:57:15.597219Z",
     "shell.execute_reply": "2024-03-26T10:57:15.596110Z"
    },
    "papermill": {
     "duration": 0.419486,
     "end_time": "2024-03-26T10:57:15.600191",
     "exception": false,
     "start_time": "2024-03-26T10:57:15.180705",
     "status": "completed"
    },
    "tags": []
   },
   "outputs": [
    {
     "name": "stdout",
     "output_type": "stream",
     "text": [
      "80.0 0.42\n"
     ]
    },
    {
     "name": "stderr",
     "output_type": "stream",
     "text": [
      "/opt/conda/lib/python3.10/site-packages/seaborn/_oldcore.py:1119: FutureWarning: use_inf_as_na option is deprecated and will be removed in a future version. Convert inf values to NaN before operating instead.\n",
      "  with pd.option_context('mode.use_inf_as_na', True):\n",
      "/opt/conda/lib/python3.10/site-packages/seaborn/_oldcore.py:1119: FutureWarning: use_inf_as_na option is deprecated and will be removed in a future version. Convert inf values to NaN before operating instead.\n",
      "  with pd.option_context('mode.use_inf_as_na', True):\n"
     ]
    },
    {
     "data": {
      "image/png": "[encoded data removed]",
      "text/plain": [
       "<Figure size 1000x500 with 1 Axes>"
      ]
     },
     "metadata": {},
     "output_type": "display_data"
    }
   ],
   "source": [
    "maxAge=train_data[col_names[5]].max()\n",
    "minAge=train_data[col_names[5]].min()\n",
    "print(maxAge,minAge)\n",
    "f, ax = plt.subplots(1, 1, figsize=(10, 5))\n",
    "\n",
    "sns.kdeplot(train_data[train_data[\"Survived\"] == 1]['Age'], ax=ax)\n",
    "sns.kdeplot(train_data[train_data[\"Survived\"] == 0]['Age'], ax=ax)\n",
    "plt.legend(['survived == 1', 'survived == 0'], fontsize='20')\n",
    "plt.show()"
   ]
  },
  {
   "cell_type": "code",
   "execution_count": 19,
   "id": "31adfccc",
   "metadata": {
    "execution": {
     "iopub.execute_input": "2024-03-26T10:57:15.635553Z",
     "iopub.status.busy": "2024-03-26T10:57:15.634508Z",
     "iopub.status.idle": "2024-03-26T10:57:16.114572Z",
     "shell.execute_reply": "2024-03-26T10:57:16.113264Z"
    },
    "papermill": {
     "duration": 0.501891,
     "end_time": "2024-03-26T10:57:16.117773",
     "exception": false,
     "start_time": "2024-03-26T10:57:15.615882",
     "status": "completed"
    },
    "tags": []
   },
   "outputs": [
    {
     "name": "stderr",
     "output_type": "stream",
     "text": [
      "/opt/conda/lib/python3.10/site-packages/seaborn/_oldcore.py:1119: FutureWarning: use_inf_as_na option is deprecated and will be removed in a future version. Convert inf values to NaN before operating instead.\n",
      "  with pd.option_context('mode.use_inf_as_na', True):\n",
      "/opt/conda/lib/python3.10/site-packages/seaborn/_oldcore.py:1119: FutureWarning: use_inf_as_na option is deprecated and will be removed in a future version. Convert inf values to NaN before operating instead.\n",
      "  with pd.option_context('mode.use_inf_as_na', True):\n",
      "/opt/conda/lib/python3.10/site-packages/seaborn/_oldcore.py:1119: FutureWarning: use_inf_as_na option is deprecated and will be removed in a future version. Convert inf values to NaN before operating instead.\n",
      "  with pd.option_context('mode.use_inf_as_na', True):\n"
     ]
    },
    {
     "data": {
      "image/png": "[encoded data removed]",
      "text/plain": [
       "<Figure size 800x600 with 1 Axes>"
      ]
     },
     "metadata": {},
     "output_type": "display_data"
    }
   ],
   "source": [
    "\n",
    "f, ax = plt.subplots(1, 1, figsize=(8, 6))\n",
    "\n",
    "for i in range(1, 4):\n",
    "    sns.kdeplot(train_data[train_data[\"Pclass\"] == i]['Age'], ax=ax)\n",
    "\n",
    "ax.set_title('Age Distribution with pclass')\n",
    "ax.set_xlabel('Age')\n",
    "ax.legend(['1st', '2nd', '3rd'])\n",
    "plt.show()"
   ]
  },
  {
   "cell_type": "markdown",
   "id": "0cce2d15",
   "metadata": {
    "papermill": {
     "duration": 0.018544,
     "end_time": "2024-03-26T10:57:16.153433",
     "exception": false,
     "start_time": "2024-03-26T10:57:16.134889",
     "status": "completed"
    },
    "tags": []
   },
   "source": [
    "# **RandomForest**"
   ]
  },
  {
   "cell_type": "code",
   "execution_count": 20,
   "id": "0c4f3aeb",
   "metadata": {
    "execution": {
     "iopub.execute_input": "2024-03-26T10:57:16.190467Z",
     "iopub.status.busy": "2024-03-26T10:57:16.190052Z",
     "iopub.status.idle": "2024-03-26T10:57:17.144801Z",
     "shell.execute_reply": "2024-03-26T10:57:17.142817Z"
    },
    "papermill": {
     "duration": 0.97636,
     "end_time": "2024-03-26T10:57:17.147375",
     "exception": false,
     "start_time": "2024-03-26T10:57:16.171015",
     "status": "completed"
    },
    "tags": []
   },
   "outputs": [
    {
     "name": "stdout",
     "output_type": "stream",
     "text": [
      "Your submission was successfully saved!\n"
     ]
    }
   ],
   "source": [
    "from sklearn.ensemble import RandomForestClassifier\n",
    "#X: features, y: labels\n",
    "y = train_data[\"Survived\"]\n",
    "features = [\"Pclass\", \"Sex\", \"SibSp\", \"Parch\"]\n",
    "X = pd.get_dummies(train_data[features])  #convert to dummy variables\n",
    "X_test = pd.get_dummies(test_data[features])\n",
    "model = RandomForestClassifier(n_estimators=100, max_depth=5, random_state=1)\n",
    "model.fit(X, y)\n",
    "predictions = model.predict(X_test)\n",
    "\n",
    "output = pd.DataFrame({'PassengerId': test_data.PassengerId, 'Survived': predictions})\n",
    "output.to_csv('submission.csv', index=False)\n",
    "print(\"Your submission was successfully saved!\")"
   ]
  },
  {
   "cell_type": "code",
   "execution_count": 21,
   "id": "9640eb92",
   "metadata": {
    "execution": {
     "iopub.execute_input": "2024-03-26T10:57:17.184867Z",
     "iopub.status.busy": "2024-03-26T10:57:17.184377Z",
     "iopub.status.idle": "2024-03-26T10:57:17.191461Z",
     "shell.execute_reply": "2024-03-26T10:57:17.190136Z"
    },
    "papermill": {
     "duration": 0.030265,
     "end_time": "2024-03-26T10:57:17.194616",
     "exception": false,
     "start_time": "2024-03-26T10:57:17.164351",
     "status": "completed"
    },
    "tags": []
   },
   "outputs": [
    {
     "data": {
      "text/plain": [
       "(891, 5)"
      ]
     },
     "execution_count": 21,
     "metadata": {},
     "output_type": "execute_result"
    }
   ],
   "source": [
    "X.shape"
   ]
  },
  {
   "cell_type": "code",
   "execution_count": 22,
   "id": "a51f8c68",
   "metadata": {
    "execution": {
     "iopub.execute_input": "2024-03-26T10:57:17.233104Z",
     "iopub.status.busy": "2024-03-26T10:57:17.232629Z",
     "iopub.status.idle": "2024-03-26T10:57:17.246478Z",
     "shell.execute_reply": "2024-03-26T10:57:17.244991Z"
    },
    "papermill": {
     "duration": 0.03668,
     "end_time": "2024-03-26T10:57:17.249238",
     "exception": false,
     "start_time": "2024-03-26T10:57:17.212558",
     "status": "completed"
    },
    "tags": []
   },
   "outputs": [
    {
     "data": {
      "text/html": [
       "<div>\n",
       "<style scoped>\n",
       "    .dataframe tbody tr th:only-of-type {\n",
       "        vertical-align: middle;\n",
       "    }\n",
       "\n",
       "    .dataframe tbody tr th {\n",
       "        vertical-align: top;\n",
       "    }\n",
       "\n",
       "    .dataframe thead th {\n",
       "        text-align: right;\n",
       "    }\n",
       "</style>\n",
       "<table border=\"1\" class=\"dataframe\">\n",
       "  <thead>\n",
       "    <tr style=\"text-align: right;\">\n",
       "      <th></th>\n",
       "      <th>PassengerId</th>\n",
       "      <th>Survived</th>\n",
       "    </tr>\n",
       "  </thead>\n",
       "  <tbody>\n",
       "    <tr>\n",
       "      <th>0</th>\n",
       "      <td>892</td>\n",
       "      <td>0</td>\n",
       "    </tr>\n",
       "    <tr>\n",
       "      <th>1</th>\n",
       "      <td>893</td>\n",
       "      <td>1</td>\n",
       "    </tr>\n",
       "    <tr>\n",
       "      <th>2</th>\n",
       "      <td>894</td>\n",
       "      <td>0</td>\n",
       "    </tr>\n",
       "    <tr>\n",
       "      <th>3</th>\n",
       "      <td>895</td>\n",
       "      <td>0</td>\n",
       "    </tr>\n",
       "    <tr>\n",
       "      <th>4</th>\n",
       "      <td>896</td>\n",
       "      <td>1</td>\n",
       "    </tr>\n",
       "  </tbody>\n",
       "</table>\n",
       "</div>"
      ],
      "text/plain": [
       "   PassengerId  Survived\n",
       "0          892         0\n",
       "1          893         1\n",
       "2          894         0\n",
       "3          895         0\n",
       "4          896         1"
      ]
     },
     "execution_count": 22,
     "metadata": {},
     "output_type": "execute_result"
    }
   ],
   "source": [
    "pd.read_csv('submission.csv').head()"
   ]
  },
  {
   "cell_type": "markdown",
   "id": "c7468c99",
   "metadata": {
    "papermill": {
     "duration": 0.019421,
     "end_time": "2024-03-26T10:57:17.287240",
     "exception": false,
     "start_time": "2024-03-26T10:57:17.267819",
     "status": "completed"
    },
    "tags": []
   },
   "source": [
    "**Evaluate the model performance**"
   ]
  },
  {
   "cell_type": "code",
   "execution_count": 23,
   "id": "ce9c44a4",
   "metadata": {
    "execution": {
     "iopub.execute_input": "2024-03-26T10:57:17.329898Z",
     "iopub.status.busy": "2024-03-26T10:57:17.328355Z",
     "iopub.status.idle": "2024-03-26T10:57:18.919101Z",
     "shell.execute_reply": "2024-03-26T10:57:18.916917Z"
    },
    "papermill": {
     "duration": 1.616123,
     "end_time": "2024-03-26T10:57:18.922574",
     "exception": false,
     "start_time": "2024-03-26T10:57:17.306451",
     "status": "completed"
    },
    "tags": []
   },
   "outputs": [
    {
     "name": "stdout",
     "output_type": "stream",
     "text": [
      "Cross-Validation Scores: [0.76536313 0.80337079 0.80898876 0.79213483 0.8258427 ]\n",
      "Mean CV Accuracy: 0.7991400414286611\n",
      "Validation Accuracy: 0.7988826815642458\n",
      "Confusion Matrix:\n",
      "[[91 14]\n",
      " [22 52]]\n"
     ]
    }
   ],
   "source": [
    "from sklearn.model_selection import cross_val_score, train_test_split\n",
    "from sklearn.metrics import confusion_matrix, accuracy_score\n",
    "\n",
    "# Split the data into training(80%) and validation sets(20%)  \n",
    "#to avoid overfitting\n",
    "X_train, X_val, y_train, y_val = train_test_split(X, y, test_size=0.2, random_state=42)\n",
    "\n",
    "# Train the model\n",
    "model = RandomForestClassifier(n_estimators=100, max_depth=5, random_state=1)\n",
    "model.fit(X_train, y_train)\n",
    "\n",
    "# Evaluate using cross-validation\n",
    "cv_scores = cross_val_score(model, X, y, cv=5)  # 5-fold cross-validation\n",
    "print(\"Cross-Validation Scores:\", cv_scores)\n",
    "print(\"Mean CV Accuracy:\", cv_scores.mean())\n",
    "\n",
    "# Make predictions on the validation set\n",
    "val_predictions = model.predict(X_val)\n",
    "\n",
    "# Calculate accuracy\n",
    "accuracy = accuracy_score(y_val, val_predictions)\n",
    "print(\"Validation Accuracy:\", accuracy)\n",
    "\n",
    "# Confusion Matrix\n",
    "conf_matrix = confusion_matrix(y_val, val_predictions)\n",
    "print(\"Confusion Matrix:\")\n",
    "print(conf_matrix)\n"
   ]
  },
  {
   "cell_type": "code",
   "execution_count": 24,
   "id": "1aa9880f",
   "metadata": {
    "execution": {
     "iopub.execute_input": "2024-03-26T10:57:18.963824Z",
     "iopub.status.busy": "2024-03-26T10:57:18.963282Z",
     "iopub.status.idle": "2024-03-26T10:57:18.972153Z",
     "shell.execute_reply": "2024-03-26T10:57:18.970774Z"
    },
    "papermill": {
     "duration": 0.032312,
     "end_time": "2024-03-26T10:57:18.974618",
     "exception": false,
     "start_time": "2024-03-26T10:57:18.942306",
     "status": "completed"
    },
    "tags": []
   },
   "outputs": [
    {
     "data": {
      "text/plain": [
       "(712, 5)"
      ]
     },
     "execution_count": 24,
     "metadata": {},
     "output_type": "execute_result"
    }
   ],
   "source": [
    "X_train.shape\n"
   ]
  },
  {
   "cell_type": "code",
   "execution_count": null,
   "id": "2dc2c424",
   "metadata": {
    "papermill": {
     "duration": 0.019519,
     "end_time": "2024-03-26T10:57:19.012767",
     "exception": false,
     "start_time": "2024-03-26T10:57:18.993248",
     "status": "completed"
    },
    "tags": []
   },
   "outputs": [],
   "source": []
  },
  {
   "cell_type": "code",
   "execution_count": null,
   "id": "d4da4a92",
   "metadata": {
    "papermill": {
     "duration": 0.017937,
     "end_time": "2024-03-26T10:57:19.048945",
     "exception": false,
     "start_time": "2024-03-26T10:57:19.031008",
     "status": "completed"
    },
    "tags": []
   },
   "outputs": [],
   "source": []
  }
 ],
 "metadata": {
  "kaggle": {
   "accelerator": "none",
   "dataSources": [
    {
     "databundleVersionId": 26502,
     "sourceId": 3136,
     "sourceType": "competition"
    }
   ],
   "dockerImageVersionId": 30673,
   "isGpuEnabled": false,
   "isInternetEnabled": false,
   "language": "python",
   "sourceType": "notebook"
  },
  "kernelspec": {
   "display_name": "Python 3",
   "language": "python",
   "name": "python3"
  },
  "language_info": {
   "codemirror_mode": {
    "name": "ipython",
    "version": 3
   },
   "file_extension": ".py",
   "mimetype": "text/x-python",
   "name": "python",
   "nbconvert_exporter": "python",
   "pygments_lexer": "ipython3",
   "version": "3.10.13"
  },
  "papermill": {
   "default_parameters": {},
   "duration": 13.917247,
   "end_time": "2024-03-26T10:57:19.789681",
   "environment_variables": {},
   "exception": null,
   "input_path": "__notebook__.ipynb",
   "output_path": "__notebook__.ipynb",
   "parameters": {},
   "start_time": "2024-03-26T10:57:05.872434",
   "version": "2.5.0"
  }
 },
 "nbformat": 4,
 "nbformat_minor": 5
}
